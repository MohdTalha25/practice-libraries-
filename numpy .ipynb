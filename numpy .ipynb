{
 "cells": [
  {
   "cell_type": "code",
   "execution_count": 8,
   "id": "02a35e3a",
   "metadata": {},
   "outputs": [],
   "source": []
  },
  {
   "cell_type": "code",
   "execution_count": 15,
   "id": "24100be7",
   "metadata": {
    "scrolled": false
   },
   "outputs": [
    {
     "name": "stdout",
     "output_type": "stream",
     "text": [
      "0               a  b\n",
      "0  1  4\n",
      "1  2  5\n",
      "2  3  6\n",
      "1           a   b\n",
      "0  7  10\n",
      "1  8  11\n",
      "2  9  12\n",
      "2        a   b\n",
      "0  13  16\n",
      "1  14  17\n",
      "2  15  18\n",
      "dtype: object\n"
     ]
    }
   ],
   "source": [
    "import pandas as pd \n",
    "df1=pd.DataFrame({'a':[1,2,3],   'b':[4,5,6]})\n",
    "df2=pd.DataFrame({'a':[7,8,9],   'b':[10,11,12]})\n",
    "df3=pd.DataFrame({'a':[13,14,15],'b':[16,17,18]})\n",
    "panel =pd.Series([df1,df2,df3])\n",
    "print(panel)"
   ]
  },
  {
   "cell_type": "code",
   "execution_count": 2,
   "id": "4c334eea",
   "metadata": {},
   "outputs": [
    {
     "name": "stdout",
     "output_type": "stream",
     "text": [
      "   name surname  age\n",
      "0  jhon     doe   30\n",
      "1   sri     sai   25\n"
     ]
    }
   ],
   "source": [
    "import numpy as np\n",
    "import pandas as pd\n",
    "data=[['jhon','doe',30],['sri','sai',25]]\n",
    "df=pd.DataFrame(data,columns=['name','surname','age'])\n",
    "print(df)"
   ]
  },
  {
   "cell_type": "code",
   "execution_count": 8,
   "id": "1698e365",
   "metadata": {},
   "outputs": [
    {
     "name": "stdout",
     "output_type": "stream",
     "text": [
      "1\n"
     ]
    }
   ],
   "source": [
    "import numpy as np\n",
    "array=np.array([1,2,3,4])\n",
    "print(array[0])\n"
   ]
  },
  {
   "cell_type": "code",
   "execution_count": 9,
   "id": "8ff6ac0f",
   "metadata": {},
   "outputs": [
    {
     "name": "stdout",
     "output_type": "stream",
     "text": [
      "[2 3 4 5]\n"
     ]
    }
   ],
   "source": [
    "import numpy as np\n",
    "array=np.array([1,2,3,4])\n",
    "print(array+1)"
   ]
  },
  {
   "cell_type": "code",
   "execution_count": 9,
   "id": "d7f63e27",
   "metadata": {},
   "outputs": [
    {
     "name": "stdout",
     "output_type": "stream",
     "text": [
      "0    1\n",
      "1    2\n",
      "2    3\n",
      "3    4\n",
      "4    5\n",
      "dtype: int64\n",
      "0    1\n",
      "1    2\n",
      "2    3\n",
      "3    4\n",
      "4    5\n",
      "dtype: int64\n"
     ]
    }
   ],
   "source": [
    "import pandas as pd\n",
    "numbers=[1,2,3,4,5]\n",
    "series=pd.Series(numbers)\n",
    "print(series.head())\n",
    "print(series.tail())"
   ]
  },
  {
   "cell_type": "code",
   "execution_count": null,
   "id": "873e5fe5",
   "metadata": {},
   "outputs": [],
   "source": []
  }
 ],
 "metadata": {
  "kernelspec": {
   "display_name": "Python 3 (ipykernel)",
   "language": "python",
   "name": "python3"
  },
  "language_info": {
   "codemirror_mode": {
    "name": "ipython",
    "version": 3
   },
   "file_extension": ".py",
   "mimetype": "text/x-python",
   "name": "python",
   "nbconvert_exporter": "python",
   "pygments_lexer": "ipython3",
   "version": "3.9.13"
  }
 },
 "nbformat": 4,
 "nbformat_minor": 5
}
